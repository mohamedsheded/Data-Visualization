{
 "cells": [
  {
   "cell_type": "markdown",
   "id": "b3bf3568",
   "metadata": {
    "papermill": {
     "duration": 0.010767,
     "end_time": "2022-06-28T15:46:48.795166",
     "exception": false,
     "start_time": "2022-06-28T15:46:48.784399",
     "status": "completed"
    },
    "tags": []
   },
   "source": [
    "**This notebook is an exercise in the [Data Visualization](https://www.kaggle.com/learn/data-visualization) course.  You can reference the tutorial at [this link](https://www.kaggle.com/alexisbcook/scatter-plots).**\n",
    "\n",
    "---\n"
   ]
  },
  {
   "cell_type": "markdown",
   "id": "ae9c73f8",
   "metadata": {
    "papermill": {
     "duration": 0.00962,
     "end_time": "2022-06-28T15:46:48.814670",
     "exception": false,
     "start_time": "2022-06-28T15:46:48.805050",
     "status": "completed"
    },
    "tags": []
   },
   "source": [
    "In this exercise, you will use your new knowledge to propose a solution to a real-world scenario.  To succeed, you will need to import data into Python, answer questions using the data, and generate **scatter plots** to understand patterns in the data.\n",
    "\n",
    "## Scenario\n",
    "\n",
    "You work for a major candy producer, and your goal is to write a report that your company can use to guide the design of its next product.  Soon after starting your research, you stumble across this [very interesting dataset](https://fivethirtyeight.com/features/the-ultimate-halloween-candy-power-ranking/) containing results from a fun survey to crowdsource favorite candies.\n",
    "\n",
    "## Setup\n",
    "\n",
    "Run the next cell to import and configure the Python libraries that you need to complete the exercise."
   ]
  },
  {
   "cell_type": "code",
   "execution_count": 1,
   "id": "9a0f2c27",
   "metadata": {
    "execution": {
     "iopub.execute_input": "2022-06-28T15:46:48.836352Z",
     "iopub.status.busy": "2022-06-28T15:46:48.835551Z",
     "iopub.status.idle": "2022-06-28T15:46:50.071995Z",
     "shell.execute_reply": "2022-06-28T15:46:50.070562Z"
    },
    "papermill": {
     "duration": 1.250414,
     "end_time": "2022-06-28T15:46:50.074816",
     "exception": false,
     "start_time": "2022-06-28T15:46:48.824402",
     "status": "completed"
    },
    "tags": []
   },
   "outputs": [
    {
     "name": "stdout",
     "output_type": "stream",
     "text": [
      "Setup Complete\n"
     ]
    }
   ],
   "source": [
    "import pandas as pd\n",
    "pd.plotting.register_matplotlib_converters()\n",
    "import matplotlib.pyplot as plt\n",
    "%matplotlib inline\n",
    "import seaborn as sns\n",
    "print(\"Setup Complete\")"
   ]
  },
  {
   "cell_type": "markdown",
   "id": "4d951338",
   "metadata": {
    "papermill": {
     "duration": 0.009565,
     "end_time": "2022-06-28T15:46:50.094464",
     "exception": false,
     "start_time": "2022-06-28T15:46:50.084899",
     "status": "completed"
    },
    "tags": []
   },
   "source": [
    "The questions below will give you feedback on your work. Run the following cell to set up our feedback system."
   ]
  },
  {
   "cell_type": "code",
   "execution_count": 2,
   "id": "c148cea2",
   "metadata": {
    "execution": {
     "iopub.execute_input": "2022-06-28T15:46:50.117098Z",
     "iopub.status.busy": "2022-06-28T15:46:50.116293Z",
     "iopub.status.idle": "2022-06-28T15:46:50.200050Z",
     "shell.execute_reply": "2022-06-28T15:46:50.198711Z"
    },
    "papermill": {
     "duration": 0.097944,
     "end_time": "2022-06-28T15:46:50.202472",
     "exception": false,
     "start_time": "2022-06-28T15:46:50.104528",
     "status": "completed"
    },
    "tags": []
   },
   "outputs": [
    {
     "name": "stdout",
     "output_type": "stream",
     "text": [
      "Setup Complete\n"
     ]
    }
   ],
   "source": [
    "# Set up code checking\n",
    "import os\n",
    "if not os.path.exists(\"../input/candy.csv\"):\n",
    "    os.symlink(\"../input/data-for-datavis/candy.csv\", \"../input/candy.csv\") \n",
    "from learntools.core import binder\n",
    "binder.bind(globals())\n",
    "from learntools.data_viz_to_coder.ex4 import *\n",
    "print(\"Setup Complete\")"
   ]
  },
  {
   "cell_type": "markdown",
   "id": "47f948e5",
   "metadata": {
    "papermill": {
     "duration": 0.009515,
     "end_time": "2022-06-28T15:46:50.222082",
     "exception": false,
     "start_time": "2022-06-28T15:46:50.212567",
     "status": "completed"
    },
    "tags": []
   },
   "source": [
    "## Step 1: Load the Data\n",
    "\n",
    "Read the candy data file into `candy_data`.  Use the `\"id\"` column to label the rows."
   ]
  },
  {
   "cell_type": "code",
   "execution_count": 3,
   "id": "cb5cac30",
   "metadata": {
    "execution": {
     "iopub.execute_input": "2022-06-28T15:46:50.245012Z",
     "iopub.status.busy": "2022-06-28T15:46:50.243996Z",
     "iopub.status.idle": "2022-06-28T15:46:50.260210Z",
     "shell.execute_reply": "2022-06-28T15:46:50.259222Z"
    },
    "papermill": {
     "duration": 0.030058,
     "end_time": "2022-06-28T15:46:50.262489",
     "exception": false,
     "start_time": "2022-06-28T15:46:50.232431",
     "status": "completed"
    },
    "tags": []
   },
   "outputs": [
    {
     "data": {
      "application/javascript": [
       "parent.postMessage({\"jupyterEvent\": \"custom.exercise_interaction\", \"data\": {\"outcomeType\": 1, \"valueTowardsCompletion\": 0.3333333333333333, \"interactionType\": 1, \"questionType\": 1, \"questionId\": \"1_LoadData\", \"learnToolsVersion\": \"0.3.4\", \"failureMessage\": \"\", \"exceptionClass\": \"\", \"trace\": \"\"}}, \"*\")"
      ],
      "text/plain": [
       "<IPython.core.display.Javascript object>"
      ]
     },
     "metadata": {},
     "output_type": "display_data"
    },
    {
     "data": {
      "text/markdown": [
       "<span style=\"color:#33cc33\">Correct</span>"
      ],
      "text/plain": [
       "Correct"
      ]
     },
     "metadata": {},
     "output_type": "display_data"
    }
   ],
   "source": [
    "# Path of the file to read\n",
    "candy_filepath = \"../input/candy.csv\"\n",
    "\n",
    "# Fill in the line below to read the file into a variable candy_data\n",
    "candy_data = pd.read_csv(candy_filepath,index_col=[\"id\"])\n",
    "\n",
    "# Run the line below with no changes to check that you've loaded the data correctly\n",
    "step_1.check()"
   ]
  },
  {
   "cell_type": "code",
   "execution_count": 4,
   "id": "7a7403ae",
   "metadata": {
    "execution": {
     "iopub.execute_input": "2022-06-28T15:46:50.286167Z",
     "iopub.status.busy": "2022-06-28T15:46:50.285428Z",
     "iopub.status.idle": "2022-06-28T15:46:50.289600Z",
     "shell.execute_reply": "2022-06-28T15:46:50.288857Z"
    },
    "papermill": {
     "duration": 0.018024,
     "end_time": "2022-06-28T15:46:50.291817",
     "exception": false,
     "start_time": "2022-06-28T15:46:50.273793",
     "status": "completed"
    },
    "tags": []
   },
   "outputs": [],
   "source": [
    "# Lines below will give you a hint or solution code\n",
    "#step_1.hint()\n",
    "#step_1.solution()"
   ]
  },
  {
   "cell_type": "markdown",
   "id": "fb102c11",
   "metadata": {
    "papermill": {
     "duration": 0.010305,
     "end_time": "2022-06-28T15:46:50.313281",
     "exception": false,
     "start_time": "2022-06-28T15:46:50.302976",
     "status": "completed"
    },
    "tags": []
   },
   "source": [
    "## Step 2: Review the data\n",
    "\n",
    "Use a Python command to print the first five rows of the data."
   ]
  },
  {
   "cell_type": "code",
   "execution_count": 5,
   "id": "b4313bc6",
   "metadata": {
    "execution": {
     "iopub.execute_input": "2022-06-28T15:46:50.337128Z",
     "iopub.status.busy": "2022-06-28T15:46:50.335961Z",
     "iopub.status.idle": "2022-06-28T15:46:50.359544Z",
     "shell.execute_reply": "2022-06-28T15:46:50.358405Z"
    },
    "papermill": {
     "duration": 0.038083,
     "end_time": "2022-06-28T15:46:50.361752",
     "exception": false,
     "start_time": "2022-06-28T15:46:50.323669",
     "status": "completed"
    },
    "tags": []
   },
   "outputs": [
    {
     "data": {
      "text/html": [
       "<div>\n",
       "<style scoped>\n",
       "    .dataframe tbody tr th:only-of-type {\n",
       "        vertical-align: middle;\n",
       "    }\n",
       "\n",
       "    .dataframe tbody tr th {\n",
       "        vertical-align: top;\n",
       "    }\n",
       "\n",
       "    .dataframe thead th {\n",
       "        text-align: right;\n",
       "    }\n",
       "</style>\n",
       "<table border=\"1\" class=\"dataframe\">\n",
       "  <thead>\n",
       "    <tr style=\"text-align: right;\">\n",
       "      <th></th>\n",
       "      <th>competitorname</th>\n",
       "      <th>chocolate</th>\n",
       "      <th>fruity</th>\n",
       "      <th>caramel</th>\n",
       "      <th>peanutyalmondy</th>\n",
       "      <th>nougat</th>\n",
       "      <th>crispedricewafer</th>\n",
       "      <th>hard</th>\n",
       "      <th>bar</th>\n",
       "      <th>pluribus</th>\n",
       "      <th>sugarpercent</th>\n",
       "      <th>pricepercent</th>\n",
       "      <th>winpercent</th>\n",
       "    </tr>\n",
       "    <tr>\n",
       "      <th>id</th>\n",
       "      <th></th>\n",
       "      <th></th>\n",
       "      <th></th>\n",
       "      <th></th>\n",
       "      <th></th>\n",
       "      <th></th>\n",
       "      <th></th>\n",
       "      <th></th>\n",
       "      <th></th>\n",
       "      <th></th>\n",
       "      <th></th>\n",
       "      <th></th>\n",
       "      <th></th>\n",
       "    </tr>\n",
       "  </thead>\n",
       "  <tbody>\n",
       "    <tr>\n",
       "      <th>0</th>\n",
       "      <td>100 Grand</td>\n",
       "      <td>Yes</td>\n",
       "      <td>No</td>\n",
       "      <td>Yes</td>\n",
       "      <td>No</td>\n",
       "      <td>No</td>\n",
       "      <td>Yes</td>\n",
       "      <td>No</td>\n",
       "      <td>Yes</td>\n",
       "      <td>No</td>\n",
       "      <td>0.732</td>\n",
       "      <td>0.860</td>\n",
       "      <td>66.971725</td>\n",
       "    </tr>\n",
       "    <tr>\n",
       "      <th>1</th>\n",
       "      <td>3 Musketeers</td>\n",
       "      <td>Yes</td>\n",
       "      <td>No</td>\n",
       "      <td>No</td>\n",
       "      <td>No</td>\n",
       "      <td>Yes</td>\n",
       "      <td>No</td>\n",
       "      <td>No</td>\n",
       "      <td>Yes</td>\n",
       "      <td>No</td>\n",
       "      <td>0.604</td>\n",
       "      <td>0.511</td>\n",
       "      <td>67.602936</td>\n",
       "    </tr>\n",
       "    <tr>\n",
       "      <th>2</th>\n",
       "      <td>Air Heads</td>\n",
       "      <td>No</td>\n",
       "      <td>Yes</td>\n",
       "      <td>No</td>\n",
       "      <td>No</td>\n",
       "      <td>No</td>\n",
       "      <td>No</td>\n",
       "      <td>No</td>\n",
       "      <td>No</td>\n",
       "      <td>No</td>\n",
       "      <td>0.906</td>\n",
       "      <td>0.511</td>\n",
       "      <td>52.341465</td>\n",
       "    </tr>\n",
       "    <tr>\n",
       "      <th>3</th>\n",
       "      <td>Almond Joy</td>\n",
       "      <td>Yes</td>\n",
       "      <td>No</td>\n",
       "      <td>No</td>\n",
       "      <td>Yes</td>\n",
       "      <td>No</td>\n",
       "      <td>No</td>\n",
       "      <td>No</td>\n",
       "      <td>Yes</td>\n",
       "      <td>No</td>\n",
       "      <td>0.465</td>\n",
       "      <td>0.767</td>\n",
       "      <td>50.347546</td>\n",
       "    </tr>\n",
       "    <tr>\n",
       "      <th>4</th>\n",
       "      <td>Baby Ruth</td>\n",
       "      <td>Yes</td>\n",
       "      <td>No</td>\n",
       "      <td>Yes</td>\n",
       "      <td>Yes</td>\n",
       "      <td>Yes</td>\n",
       "      <td>No</td>\n",
       "      <td>No</td>\n",
       "      <td>Yes</td>\n",
       "      <td>No</td>\n",
       "      <td>0.604</td>\n",
       "      <td>0.767</td>\n",
       "      <td>56.914547</td>\n",
       "    </tr>\n",
       "  </tbody>\n",
       "</table>\n",
       "</div>"
      ],
      "text/plain": [
       "   competitorname chocolate fruity caramel peanutyalmondy nougat  \\\n",
       "id                                                                 \n",
       "0       100 Grand       Yes     No     Yes             No     No   \n",
       "1    3 Musketeers       Yes     No      No             No    Yes   \n",
       "2       Air Heads        No    Yes      No             No     No   \n",
       "3      Almond Joy       Yes     No      No            Yes     No   \n",
       "4       Baby Ruth       Yes     No     Yes            Yes    Yes   \n",
       "\n",
       "   crispedricewafer hard  bar pluribus  sugarpercent  pricepercent  winpercent  \n",
       "id                                                                              \n",
       "0               Yes   No  Yes       No         0.732         0.860   66.971725  \n",
       "1                No   No  Yes       No         0.604         0.511   67.602936  \n",
       "2                No   No   No       No         0.906         0.511   52.341465  \n",
       "3                No   No  Yes       No         0.465         0.767   50.347546  \n",
       "4                No   No  Yes       No         0.604         0.767   56.914547  "
      ]
     },
     "execution_count": 5,
     "metadata": {},
     "output_type": "execute_result"
    }
   ],
   "source": [
    "# Print the first five rows of the data\n",
    "candy_data.head() # Your code here"
   ]
  },
  {
   "cell_type": "markdown",
   "id": "c948d89c",
   "metadata": {
    "papermill": {
     "duration": 0.011188,
     "end_time": "2022-06-28T15:46:50.384116",
     "exception": false,
     "start_time": "2022-06-28T15:46:50.372928",
     "status": "completed"
    },
    "tags": []
   },
   "source": [
    "The dataset contains 83 rows, where each corresponds to a different candy bar.  There are 13 columns:\n",
    "- `'competitorname'` contains the name of the candy bar. \n",
    "- the next **9** columns (from `'chocolate'` to `'pluribus'`) describe the candy.  For instance, rows with chocolate candies have `\"Yes\"` in the `'chocolate'` column (and candies without chocolate have `\"No\"` in the same column).\n",
    "- `'sugarpercent'` provides some indication of the amount of sugar, where higher values signify higher sugar content.\n",
    "- `'pricepercent'` shows the price per unit, relative to the other candies in the dataset.\n",
    "- `'winpercent'` is calculated from the survey results; higher values indicate that the candy was more popular with survey respondents.\n",
    "\n",
    "Use the first five rows of the data to answer the questions below."
   ]
  },
  {
   "cell_type": "code",
   "execution_count": 6,
   "id": "f81f3ea8",
   "metadata": {
    "execution": {
     "iopub.execute_input": "2022-06-28T15:46:50.408180Z",
     "iopub.status.busy": "2022-06-28T15:46:50.407420Z",
     "iopub.status.idle": "2022-06-28T15:46:50.415668Z",
     "shell.execute_reply": "2022-06-28T15:46:50.414753Z"
    },
    "papermill": {
     "duration": 0.022749,
     "end_time": "2022-06-28T15:46:50.417937",
     "exception": false,
     "start_time": "2022-06-28T15:46:50.395188",
     "status": "completed"
    },
    "tags": []
   },
   "outputs": [
    {
     "data": {
      "application/javascript": [
       "parent.postMessage({\"jupyterEvent\": \"custom.exercise_interaction\", \"data\": {\"outcomeType\": 1, \"valueTowardsCompletion\": 0.3333333333333333, \"interactionType\": 1, \"questionType\": 1, \"questionId\": \"2_ReviewData\", \"learnToolsVersion\": \"0.3.4\", \"failureMessage\": \"\", \"exceptionClass\": \"\", \"trace\": \"\"}}, \"*\")"
      ],
      "text/plain": [
       "<IPython.core.display.Javascript object>"
      ]
     },
     "metadata": {},
     "output_type": "display_data"
    },
    {
     "data": {
      "text/markdown": [
       "<span style=\"color:#33cc33\">Correct</span>"
      ],
      "text/plain": [
       "Correct"
      ]
     },
     "metadata": {},
     "output_type": "display_data"
    }
   ],
   "source": [
    "# Fill in the line below: Which candy was more popular with survey respondents:\n",
    "# '3 Musketeers' or 'Almond Joy'?  (Please enclose your answer in single quotes.)\n",
    "\n",
    "more_popular = '3 Musketeers'\n",
    "# Fill in the line below: Which candy has higher sugar content: 'Air Heads'\n",
    "# or 'Baby Ruth'? (Please enclose your answer in single quotes.)\n",
    "more_sugar = 'Air Heads'\n",
    "\n",
    "# Check your answers\n",
    "step_2.check()"
   ]
  },
  {
   "cell_type": "code",
   "execution_count": 7,
   "id": "f9f5db17",
   "metadata": {
    "execution": {
     "iopub.execute_input": "2022-06-28T15:46:50.443268Z",
     "iopub.status.busy": "2022-06-28T15:46:50.442510Z",
     "iopub.status.idle": "2022-06-28T15:46:50.446523Z",
     "shell.execute_reply": "2022-06-28T15:46:50.445656Z"
    },
    "papermill": {
     "duration": 0.019724,
     "end_time": "2022-06-28T15:46:50.448840",
     "exception": false,
     "start_time": "2022-06-28T15:46:50.429116",
     "status": "completed"
    },
    "tags": []
   },
   "outputs": [],
   "source": [
    "# Lines below will give you a hint or solution code\n",
    "#step_2.hint()\n",
    "#step_2.solution()"
   ]
  },
  {
   "cell_type": "markdown",
   "id": "493ed1c1",
   "metadata": {
    "papermill": {
     "duration": 0.010974,
     "end_time": "2022-06-28T15:46:50.470881",
     "exception": false,
     "start_time": "2022-06-28T15:46:50.459907",
     "status": "completed"
    },
    "tags": []
   },
   "source": [
    "## Step 3: The role of sugar\n",
    "\n",
    "Do people tend to prefer candies with higher sugar content?  \n",
    "\n",
    "#### Part A\n",
    "\n",
    "Create a scatter plot that shows the relationship between `'sugarpercent'` (on the horizontal x-axis) and `'winpercent'` (on the vertical y-axis).  _Don't add a regression line just yet -- you'll do that in the next step!_"
   ]
  },
  {
   "cell_type": "code",
   "execution_count": 8,
   "id": "603f940e",
   "metadata": {
    "execution": {
     "iopub.execute_input": "2022-06-28T15:46:50.495188Z",
     "iopub.status.busy": "2022-06-28T15:46:50.494744Z",
     "iopub.status.idle": "2022-06-28T15:46:50.743583Z",
     "shell.execute_reply": "2022-06-28T15:46:50.742554Z"
    },
    "papermill": {
     "duration": 0.264353,
     "end_time": "2022-06-28T15:46:50.746514",
     "exception": false,
     "start_time": "2022-06-28T15:46:50.482161",
     "status": "completed"
    },
    "tags": []
   },
   "outputs": [
    {
     "data": {
      "application/javascript": [
       "parent.postMessage({\"jupyterEvent\": \"custom.exercise_interaction\", \"data\": {\"outcomeType\": 1, \"valueTowardsCompletion\": 0.3333333333333333, \"interactionType\": 1, \"questionType\": 2, \"questionId\": \"3.1_PlotBlueScatter\", \"learnToolsVersion\": \"0.3.4\", \"failureMessage\": \"\", \"exceptionClass\": \"\", \"trace\": \"\"}}, \"*\")"
      ],
      "text/plain": [
       "<IPython.core.display.Javascript object>"
      ]
     },
     "metadata": {},
     "output_type": "display_data"
    },
    {
     "data": {
      "text/markdown": [
       "<span style=\"color:#33cc33\">Correct</span>"
      ],
      "text/plain": [
       "Correct"
      ]
     },
     "metadata": {},
     "output_type": "display_data"
    },
    {
     "data": {
      "image/png": "[encoded data removed]",
      "text/plain": [
       "<Figure size 432x288 with 1 Axes>"
      ]
     },
     "metadata": {
      "needs_background": "light"
     },
     "output_type": "display_data"
    }
   ],
   "source": [
    "# Scatter plot showing the relationship between 'sugarpercent' and 'winpercent'\n",
    "sns.scatterplot(x=candy_data['sugarpercent'],y=candy_data['winpercent']) # Your code here\n",
    "\n",
    "# Check your answer\n",
    "step_3.a.check()"
   ]
  },
  {
   "cell_type": "code",
   "execution_count": 9,
   "id": "1607e481",
   "metadata": {
    "execution": {
     "iopub.execute_input": "2022-06-28T15:46:50.772249Z",
     "iopub.status.busy": "2022-06-28T15:46:50.771857Z",
     "iopub.status.idle": "2022-06-28T15:46:50.776944Z",
     "shell.execute_reply": "2022-06-28T15:46:50.775866Z"
    },
    "papermill": {
     "duration": 0.020616,
     "end_time": "2022-06-28T15:46:50.779211",
     "exception": false,
     "start_time": "2022-06-28T15:46:50.758595",
     "status": "completed"
    },
    "tags": []
   },
   "outputs": [],
   "source": [
    "# Lines below will give you a hint or solution code\n",
    "#step_3.a.hint()\n",
    "#step_3.a.solution_plot()"
   ]
  },
  {
   "cell_type": "markdown",
   "id": "340a0f65",
   "metadata": {
    "papermill": {
     "duration": 0.011237,
     "end_time": "2022-06-28T15:46:50.801982",
     "exception": false,
     "start_time": "2022-06-28T15:46:50.790745",
     "status": "completed"
    },
    "tags": []
   },
   "source": [
    "#### Part B\n",
    "\n",
    "Does the scatter plot show a **strong** correlation between the two variables?  If so, are candies with more sugar relatively more or less popular with the survey respondents?"
   ]
  },
  {
   "cell_type": "code",
   "execution_count": 10,
   "id": "d323631b",
   "metadata": {
    "execution": {
     "iopub.execute_input": "2022-06-28T15:46:50.826972Z",
     "iopub.status.busy": "2022-06-28T15:46:50.826541Z",
     "iopub.status.idle": "2022-06-28T15:46:50.831508Z",
     "shell.execute_reply": "2022-06-28T15:46:50.830302Z"
    },
    "papermill": {
     "duration": 0.020386,
     "end_time": "2022-06-28T15:46:50.833804",
     "exception": false,
     "start_time": "2022-06-28T15:46:50.813418",
     "status": "completed"
    },
    "tags": []
   },
   "outputs": [],
   "source": [
    "#step_3.b.hint()"
   ]
  },
  {
   "cell_type": "code",
   "execution_count": 11,
   "id": "4ebb220a",
   "metadata": {
    "execution": {
     "iopub.execute_input": "2022-06-28T15:46:50.858551Z",
     "iopub.status.busy": "2022-06-28T15:46:50.858149Z",
     "iopub.status.idle": "2022-06-28T15:46:50.867348Z",
     "shell.execute_reply": "2022-06-28T15:46:50.866510Z"
    },
    "papermill": {
     "duration": 0.024118,
     "end_time": "2022-06-28T15:46:50.869464",
     "exception": false,
     "start_time": "2022-06-28T15:46:50.845346",
     "status": "completed"
    },
    "tags": []
   },
   "outputs": [
    {
     "data": {
      "application/javascript": [
       "parent.postMessage({\"jupyterEvent\": \"custom.exercise_interaction\", \"data\": {\"interactionType\": 3, \"questionType\": 4, \"questionId\": \"3.2_ThinkBlueScatter\", \"learnToolsVersion\": \"0.3.4\", \"valueTowardsCompletion\": 0.0, \"failureMessage\": \"\", \"exceptionClass\": \"\", \"trace\": \"\", \"outcomeType\": 4}}, \"*\")"
      ],
      "text/plain": [
       "<IPython.core.display.Javascript object>"
      ]
     },
     "metadata": {},
     "output_type": "display_data"
    },
    {
     "data": {
      "text/markdown": [
       "<span style=\"color:#33cc99\">Solution:</span> The scatter plot does not show a strong correlation between the two variables. Since there is no clear relationship between the two variables, this tells us that sugar content does not play a strong role in candy popularity."
      ],
      "text/plain": [
       "Solution: The scatter plot does not show a strong correlation between the two variables. Since there is no clear relationship between the two variables, this tells us that sugar content does not play a strong role in candy popularity."
      ]
     },
     "metadata": {},
     "output_type": "display_data"
    }
   ],
   "source": [
    "# Check your answer (Run this code cell to receive credit!)\n",
    "step_3.b.solution()"
   ]
  },
  {
   "cell_type": "markdown",
   "id": "36be6f67",
   "metadata": {
    "papermill": {
     "duration": 0.011515,
     "end_time": "2022-06-28T15:46:50.892904",
     "exception": false,
     "start_time": "2022-06-28T15:46:50.881389",
     "status": "completed"
    },
    "tags": []
   },
   "source": [
    "## Step 4: Take a closer look\n",
    "\n",
    "#### Part A\n",
    "\n",
    "Create the same scatter plot you created in **Step 3**, but now with a regression line!"
   ]
  },
  {
   "cell_type": "code",
   "execution_count": 12,
   "id": "73a558e1",
   "metadata": {
    "execution": {
     "iopub.execute_input": "2022-06-28T15:46:50.918627Z",
     "iopub.status.busy": "2022-06-28T15:46:50.918203Z",
     "iopub.status.idle": "2022-06-28T15:46:51.245346Z",
     "shell.execute_reply": "2022-06-28T15:46:51.243919Z"
    },
    "papermill": {
     "duration": 0.344145,
     "end_time": "2022-06-28T15:46:51.248931",
     "exception": false,
     "start_time": "2022-06-28T15:46:50.904786",
     "status": "completed"
    },
    "tags": []
   },
   "outputs": [
    {
     "data": {
      "application/javascript": [
       "parent.postMessage({\"jupyterEvent\": \"custom.exercise_interaction\", \"data\": {\"outcomeType\": 1, \"valueTowardsCompletion\": 0.3333333333333333, \"interactionType\": 1, \"questionType\": 2, \"questionId\": \"4.1_PlotBlueReg\", \"learnToolsVersion\": \"0.3.4\", \"failureMessage\": \"\", \"exceptionClass\": \"\", \"trace\": \"\"}}, \"*\")"
      ],
      "text/plain": [
       "<IPython.core.display.Javascript object>"
      ]
     },
     "metadata": {},
     "output_type": "display_data"
    },
    {
     "data": {
      "text/markdown": [
       "<span style=\"color:#33cc33\">Correct</span>"
      ],
      "text/plain": [
       "Correct"
      ]
     },
     "metadata": {},
     "output_type": "display_data"
    },
    {
     "data": {
      "image/png": "[encoded data removed]",
      "text/plain": [
       "<Figure size 432x288 with 1 Axes>"
      ]
     },
     "metadata": {
      "needs_background": "light"
     },
     "output_type": "display_data"
    }
   ],
   "source": [
    "# Scatter plot w/ regression line showing the relationship between 'sugarpercent' and 'winpercent'\n",
    "sns.regplot(x=candy_data['sugarpercent'],y=candy_data['winpercent']) \n",
    "\n",
    "# Check your answer\n",
    "step_4.a.check()"
   ]
  },
  {
   "cell_type": "code",
   "execution_count": 13,
   "id": "7ab52d12",
   "metadata": {
    "execution": {
     "iopub.execute_input": "2022-06-28T15:46:51.285724Z",
     "iopub.status.busy": "2022-06-28T15:46:51.285207Z",
     "iopub.status.idle": "2022-06-28T15:46:51.290965Z",
     "shell.execute_reply": "2022-06-28T15:46:51.289720Z"
    },
    "papermill": {
     "duration": 0.023361,
     "end_time": "2022-06-28T15:46:51.293465",
     "exception": false,
     "start_time": "2022-06-28T15:46:51.270104",
     "status": "completed"
    },
    "tags": []
   },
   "outputs": [],
   "source": [
    "# Lines below will give you a hint or solution code\n",
    "#step_4.a.hint()\n",
    "#step_4.a.solution_plot()"
   ]
  },
  {
   "cell_type": "markdown",
   "id": "dfd51113",
   "metadata": {
    "papermill": {
     "duration": 0.016907,
     "end_time": "2022-06-28T15:46:51.323937",
     "exception": false,
     "start_time": "2022-06-28T15:46:51.307030",
     "status": "completed"
    },
    "tags": []
   },
   "source": [
    "#### Part B\n",
    "\n",
    "According to the plot above, is there a **slight** correlation between `'winpercent'` and `'sugarpercent'`?  What does this tell you about the candy that people tend to prefer?"
   ]
  },
  {
   "cell_type": "code",
   "execution_count": 14,
   "id": "422b328d",
   "metadata": {
    "execution": {
     "iopub.execute_input": "2022-06-28T15:46:51.352177Z",
     "iopub.status.busy": "2022-06-28T15:46:51.351145Z",
     "iopub.status.idle": "2022-06-28T15:46:51.355602Z",
     "shell.execute_reply": "2022-06-28T15:46:51.354881Z"
    },
    "papermill": {
     "duration": 0.020927,
     "end_time": "2022-06-28T15:46:51.358386",
     "exception": false,
     "start_time": "2022-06-28T15:46:51.337459",
     "status": "completed"
    },
    "tags": []
   },
   "outputs": [],
   "source": [
    "#step_4.b.hint()"
   ]
  },
  {
   "cell_type": "code",
   "execution_count": 15,
   "id": "0d69a9f3",
   "metadata": {
    "execution": {
     "iopub.execute_input": "2022-06-28T15:46:51.390318Z",
     "iopub.status.busy": "2022-06-28T15:46:51.389319Z",
     "iopub.status.idle": "2022-06-28T15:46:51.398955Z",
     "shell.execute_reply": "2022-06-28T15:46:51.397917Z"
    },
    "papermill": {
     "duration": 0.026185,
     "end_time": "2022-06-28T15:46:51.401499",
     "exception": false,
     "start_time": "2022-06-28T15:46:51.375314",
     "status": "completed"
    },
    "tags": []
   },
   "outputs": [
    {
     "data": {
      "application/javascript": [
       "parent.postMessage({\"jupyterEvent\": \"custom.exercise_interaction\", \"data\": {\"interactionType\": 3, \"questionType\": 4, \"questionId\": \"4.2_ThinkBlueReg\", \"learnToolsVersion\": \"0.3.4\", \"valueTowardsCompletion\": 0.0, \"failureMessage\": \"\", \"exceptionClass\": \"\", \"trace\": \"\", \"outcomeType\": 4}}, \"*\")"
      ],
      "text/plain": [
       "<IPython.core.display.Javascript object>"
      ]
     },
     "metadata": {},
     "output_type": "display_data"
    },
    {
     "data": {
      "text/markdown": [
       "<span style=\"color:#33cc99\">Solution:</span> Since the regression line has a slightly positive slope, this tells us that there is a slightly positive correlation between `'winpercent'` and `'sugarpercent'`. Thus, people have a slight preference for candies containing relatively more sugar."
      ],
      "text/plain": [
       "Solution: Since the regression line has a slightly positive slope, this tells us that there is a slightly positive correlation between `'winpercent'` and `'sugarpercent'`. Thus, people have a slight preference for candies containing relatively more sugar."
      ]
     },
     "metadata": {},
     "output_type": "display_data"
    }
   ],
   "source": [
    "# Check your answer (Run this code cell to receive credit!)\n",
    "step_4.b.solution()"
   ]
  },
  {
   "cell_type": "markdown",
   "id": "80088600",
   "metadata": {
    "papermill": {
     "duration": 0.013298,
     "end_time": "2022-06-28T15:46:51.428528",
     "exception": false,
     "start_time": "2022-06-28T15:46:51.415230",
     "status": "completed"
    },
    "tags": []
   },
   "source": [
    "## Step 5: Chocolate!\n",
    "\n",
    "In the code cell below, create a scatter plot to show the relationship between `'pricepercent'` (on the horizontal x-axis) and `'winpercent'` (on the vertical y-axis). Use the `'chocolate'` column to color-code the points.  _Don't add any regression lines just yet -- you'll do that in the next step!_"
   ]
  },
  {
   "cell_type": "code",
   "execution_count": 16,
   "id": "b1bdc05a",
   "metadata": {
    "execution": {
     "iopub.execute_input": "2022-06-28T15:46:51.460591Z",
     "iopub.status.busy": "2022-06-28T15:46:51.459547Z",
     "iopub.status.idle": "2022-06-28T15:46:51.754281Z",
     "shell.execute_reply": "2022-06-28T15:46:51.752749Z"
    },
    "papermill": {
     "duration": 0.31526,
     "end_time": "2022-06-28T15:46:51.757335",
     "exception": false,
     "start_time": "2022-06-28T15:46:51.442075",
     "status": "completed"
    },
    "tags": []
   },
   "outputs": [
    {
     "data": {
      "application/javascript": [
       "parent.postMessage({\"jupyterEvent\": \"custom.exercise_interaction\", \"data\": {\"outcomeType\": 1, \"valueTowardsCompletion\": 0.3333333333333333, \"interactionType\": 1, \"questionType\": 2, \"questionId\": \"5_ColorScatter\", \"learnToolsVersion\": \"0.3.4\", \"failureMessage\": \"\", \"exceptionClass\": \"\", \"trace\": \"\"}}, \"*\")"
      ],
      "text/plain": [
       "<IPython.core.display.Javascript object>"
      ]
     },
     "metadata": {},
     "output_type": "display_data"
    },
    {
     "data": {
      "text/markdown": [
       "<span style=\"color:#33cc33\">Correct</span>"
      ],
      "text/plain": [
       "Correct"
      ]
     },
     "metadata": {},
     "output_type": "display_data"
    },
    {
     "data": {
      "image/png": "[encoded data removed]",
      "text/plain": [
       "<Figure size 432x288 with 1 Axes>"
      ]
     },
     "metadata": {
      "needs_background": "light"
     },
     "output_type": "display_data"
    }
   ],
   "source": [
    "# Scatter plot showing the relationship between 'pricepercent', 'winpercent', and 'chocolate'\n",
    "sns.scatterplot(x=candy_data['pricepercent'],y=candy_data['winpercent'],hue=candy_data['chocolate']) # Your code here\n",
    "\n",
    "# Check your answer\n",
    "step_5.check()"
   ]
  },
  {
   "cell_type": "code",
   "execution_count": 17,
   "id": "539e9be5",
   "metadata": {
    "execution": {
     "iopub.execute_input": "2022-06-28T15:46:51.789169Z",
     "iopub.status.busy": "2022-06-28T15:46:51.788565Z",
     "iopub.status.idle": "2022-06-28T15:46:51.793764Z",
     "shell.execute_reply": "2022-06-28T15:46:51.792489Z"
    },
    "papermill": {
     "duration": 0.024281,
     "end_time": "2022-06-28T15:46:51.796171",
     "exception": false,
     "start_time": "2022-06-28T15:46:51.771890",
     "status": "completed"
    },
    "tags": []
   },
   "outputs": [],
   "source": [
    "# Lines below will give you a hint or solution code\n",
    "#step_5.hint()\n",
    "#step_5.solution_plot()"
   ]
  },
  {
   "cell_type": "markdown",
   "id": "eea2b5dc",
   "metadata": {
    "papermill": {
     "duration": 0.013481,
     "end_time": "2022-06-28T15:46:51.823811",
     "exception": false,
     "start_time": "2022-06-28T15:46:51.810330",
     "status": "completed"
    },
    "tags": []
   },
   "source": [
    "Can you see any interesting patterns in the scatter plot?  We'll investigate this plot further  by adding regression lines in the next step!\n",
    "\n",
    "## Step 6: Investigate chocolate\n",
    "\n",
    "#### Part A\n",
    "\n",
    "Create the same scatter plot you created in **Step 5**, but now with two regression lines, corresponding to (1) chocolate candies and (2) candies without chocolate."
   ]
  },
  {
   "cell_type": "code",
   "execution_count": 18,
   "id": "39b812eb",
   "metadata": {
    "execution": {
     "iopub.execute_input": "2022-06-28T15:46:51.854412Z",
     "iopub.status.busy": "2022-06-28T15:46:51.853239Z",
     "iopub.status.idle": "2022-06-28T15:46:52.547911Z",
     "shell.execute_reply": "2022-06-28T15:46:52.546761Z"
    },
    "papermill": {
     "duration": 0.71321,
     "end_time": "2022-06-28T15:46:52.550731",
     "exception": false,
     "start_time": "2022-06-28T15:46:51.837521",
     "status": "completed"
    },
    "tags": []
   },
   "outputs": [
    {
     "data": {
      "application/javascript": [
       "parent.postMessage({\"jupyterEvent\": \"custom.exercise_interaction\", \"data\": {\"outcomeType\": 1, \"valueTowardsCompletion\": 0.3333333333333333, \"interactionType\": 1, \"questionType\": 2, \"questionId\": \"6.1_PlotColorReg\", \"learnToolsVersion\": \"0.3.4\", \"failureMessage\": \"\", \"exceptionClass\": \"\", \"trace\": \"\"}}, \"*\")"
      ],
      "text/plain": [
       "<IPython.core.display.Javascript object>"
      ]
     },
     "metadata": {},
     "output_type": "display_data"
    },
    {
     "data": {
      "text/markdown": [
       "<span style=\"color:#33cc33\">Correct</span>"
      ],
      "text/plain": [
       "Correct"
      ]
     },
     "metadata": {},
     "output_type": "display_data"
    },
    {
     "data": {
      "image/png": "[encoded data removed]",
      "text/plain": [
       "<Figure size 416.375x360 with 1 Axes>"
      ]
     },
     "metadata": {
      "needs_background": "light"
     },
     "output_type": "display_data"
    }
   ],
   "source": [
    "# Color-coded scatter plot w/ regression lines\n",
    "sns.lmplot(x=\"pricepercent\",y=\"winpercent\",hue=\"chocolate\",data=candy_data)\n",
    "# Check your answer\n",
    "step_6.a.check()"
   ]
  },
  {
   "cell_type": "markdown",
   "id": "c6ac0fa1",
   "metadata": {
    "papermill": {
     "duration": 0.014515,
     "end_time": "2022-06-28T15:46:52.580020",
     "exception": false,
     "start_time": "2022-06-28T15:46:52.565505",
     "status": "completed"
    },
    "tags": []
   },
   "source": []
  },
  {
   "cell_type": "markdown",
   "id": "f8395d44",
   "metadata": {
    "papermill": {
     "duration": 0.014144,
     "end_time": "2022-06-28T15:46:52.608819",
     "exception": false,
     "start_time": "2022-06-28T15:46:52.594675",
     "status": "completed"
    },
    "tags": []
   },
   "source": []
  },
  {
   "cell_type": "code",
   "execution_count": 19,
   "id": "99043ec4",
   "metadata": {
    "execution": {
     "iopub.execute_input": "2022-06-28T15:46:52.640554Z",
     "iopub.status.busy": "2022-06-28T15:46:52.640128Z",
     "iopub.status.idle": "2022-06-28T15:46:52.644973Z",
     "shell.execute_reply": "2022-06-28T15:46:52.643901Z"
    },
    "papermill": {
     "duration": 0.023394,
     "end_time": "2022-06-28T15:46:52.647394",
     "exception": false,
     "start_time": "2022-06-28T15:46:52.624000",
     "status": "completed"
    },
    "tags": []
   },
   "outputs": [],
   "source": [
    "# Lines below will give you a hint or solution code\n",
    "#step_6.a.hint()\n",
    "#step_6.a.solution_plot()"
   ]
  },
  {
   "cell_type": "markdown",
   "id": "09389d9c",
   "metadata": {
    "papermill": {
     "duration": 0.014403,
     "end_time": "2022-06-28T15:46:52.676481",
     "exception": false,
     "start_time": "2022-06-28T15:46:52.662078",
     "status": "completed"
    },
    "tags": []
   },
   "source": [
    "#### Part B\n",
    "\n",
    "Using the regression lines, what conclusions can you draw about the effects of chocolate and price on candy popularity?"
   ]
  },
  {
   "cell_type": "code",
   "execution_count": 20,
   "id": "012f3a24",
   "metadata": {
    "execution": {
     "iopub.execute_input": "2022-06-28T15:46:52.708305Z",
     "iopub.status.busy": "2022-06-28T15:46:52.707621Z",
     "iopub.status.idle": "2022-06-28T15:46:52.712682Z",
     "shell.execute_reply": "2022-06-28T15:46:52.711499Z"
    },
    "papermill": {
     "duration": 0.024122,
     "end_time": "2022-06-28T15:46:52.715233",
     "exception": false,
     "start_time": "2022-06-28T15:46:52.691111",
     "status": "completed"
    },
    "tags": []
   },
   "outputs": [],
   "source": [
    "#step_6.b.hint()"
   ]
  },
  {
   "cell_type": "code",
   "execution_count": 21,
   "id": "ec0c47af",
   "metadata": {
    "execution": {
     "iopub.execute_input": "2022-06-28T15:46:52.746532Z",
     "iopub.status.busy": "2022-06-28T15:46:52.745453Z",
     "iopub.status.idle": "2022-06-28T15:46:52.756363Z",
     "shell.execute_reply": "2022-06-28T15:46:52.755130Z"
    },
    "papermill": {
     "duration": 0.029211,
     "end_time": "2022-06-28T15:46:52.758898",
     "exception": false,
     "start_time": "2022-06-28T15:46:52.729687",
     "status": "completed"
    },
    "tags": []
   },
   "outputs": [
    {
     "data": {
      "application/javascript": [
       "parent.postMessage({\"jupyterEvent\": \"custom.exercise_interaction\", \"data\": {\"interactionType\": 3, \"questionType\": 4, \"questionId\": \"6.2_ThinkColorReg\", \"learnToolsVersion\": \"0.3.4\", \"valueTowardsCompletion\": 0.0, \"failureMessage\": \"\", \"exceptionClass\": \"\", \"trace\": \"\", \"outcomeType\": 4}}, \"*\")"
      ],
      "text/plain": [
       "<IPython.core.display.Javascript object>"
      ]
     },
     "metadata": {},
     "output_type": "display_data"
    },
    {
     "data": {
      "text/markdown": [
       "<span style=\"color:#33cc99\">Solution:</span> We'll begin with the regression line for chocolate candies. Since this line has a slightly positive slope, we can say that more expensive chocolate candies tend to be more popular (than relatively cheaper chocolate candies).  Likewise, since the regression line for candies without chocolate has a negative slope, we can say that if candies don't contain chocolate, they tend to be more popular when they are cheaper.  One important note, however, is that the dataset is quite small -- so we shouldn't invest too much trust in these patterns!  To inspire more confidence in the results, we should add more candies to the dataset."
      ],
      "text/plain": [
       "Solution: We'll begin with the regression line for chocolate candies. Since this line has a slightly positive slope, we can say that more expensive chocolate candies tend to be more popular (than relatively cheaper chocolate candies).  Likewise, since the regression line for candies without chocolate has a negative slope, we can say that if candies don't contain chocolate, they tend to be more popular when they are cheaper.  One important note, however, is that the dataset is quite small -- so we shouldn't invest too much trust in these patterns!  To inspire more confidence in the results, we should add more candies to the dataset."
      ]
     },
     "metadata": {},
     "output_type": "display_data"
    }
   ],
   "source": [
    "# Check your answer (Run this code cell to receive credit!)\n",
    "step_6.b.solution()"
   ]
  },
  {
   "cell_type": "markdown",
   "id": "356bce50",
   "metadata": {
    "papermill": {
     "duration": 0.014199,
     "end_time": "2022-06-28T15:46:52.787908",
     "exception": false,
     "start_time": "2022-06-28T15:46:52.773709",
     "status": "completed"
    },
    "tags": []
   },
   "source": [
    "## Step 7: Everybody loves chocolate.\n",
    "\n",
    "#### Part A\n",
    "\n",
    "Create a categorical scatter plot to highlight the relationship between `'chocolate'` and `'winpercent'`.  Put `'chocolate'` on the (horizontal) x-axis, and `'winpercent'` on the (vertical) y-axis."
   ]
  },
  {
   "cell_type": "code",
   "execution_count": 22,
   "id": "b5b683f5",
   "metadata": {
    "execution": {
     "iopub.execute_input": "2022-06-28T15:46:52.820132Z",
     "iopub.status.busy": "2022-06-28T15:46:52.819632Z",
     "iopub.status.idle": "2022-06-28T15:46:53.023966Z",
     "shell.execute_reply": "2022-06-28T15:46:53.022438Z"
    },
    "papermill": {
     "duration": 0.224543,
     "end_time": "2022-06-28T15:46:53.027460",
     "exception": false,
     "start_time": "2022-06-28T15:46:52.802917",
     "status": "completed"
    },
    "tags": []
   },
   "outputs": [
    {
     "data": {
      "application/javascript": [
       "parent.postMessage({\"jupyterEvent\": \"custom.exercise_interaction\", \"data\": {\"outcomeType\": 1, \"valueTowardsCompletion\": 0.3333333333333333, \"interactionType\": 1, \"questionType\": 2, \"questionId\": \"7.1_PlotSwarm\", \"learnToolsVersion\": \"0.3.4\", \"failureMessage\": \"\", \"exceptionClass\": \"\", \"trace\": \"\"}}, \"*\")"
      ],
      "text/plain": [
       "<IPython.core.display.Javascript object>"
      ]
     },
     "metadata": {},
     "output_type": "display_data"
    },
    {
     "data": {
      "text/markdown": [
       "<span style=\"color:#33cc33\">Correct</span>"
      ],
      "text/plain": [
       "Correct"
      ]
     },
     "metadata": {},
     "output_type": "display_data"
    },
    {
     "data": {
      "image/png": "[encoded data removed]",
      "text/plain": [
       "<Figure size 432x288 with 1 Axes>"
      ]
     },
     "metadata": {
      "needs_background": "light"
     },
     "output_type": "display_data"
    }
   ],
   "source": [
    "# Scatter plot showing the relationship between 'chocolate' and 'winpercent'\n",
    "sns.swarmplot(x=candy_data['chocolate'],y=candy_data['winpercent'])\n",
    "# Check your answer\n",
    "step_7.a.check()"
   ]
  },
  {
   "cell_type": "code",
   "execution_count": 23,
   "id": "82b6fcaf",
   "metadata": {
    "execution": {
     "iopub.execute_input": "2022-06-28T15:46:53.063218Z",
     "iopub.status.busy": "2022-06-28T15:46:53.062436Z",
     "iopub.status.idle": "2022-06-28T15:46:53.066804Z",
     "shell.execute_reply": "2022-06-28T15:46:53.065705Z"
    },
    "papermill": {
     "duration": 0.024473,
     "end_time": "2022-06-28T15:46:53.069127",
     "exception": false,
     "start_time": "2022-06-28T15:46:53.044654",
     "status": "completed"
    },
    "tags": []
   },
   "outputs": [],
   "source": [
    "# Lines below will give you a hint or solution code\n",
    "#step_7.a.hint()\n",
    "#step_7.a.solution_plot()"
   ]
  },
  {
   "cell_type": "markdown",
   "id": "e9df7b9f",
   "metadata": {
    "papermill": {
     "duration": 0.01577,
     "end_time": "2022-06-28T15:46:53.100589",
     "exception": false,
     "start_time": "2022-06-28T15:46:53.084819",
     "status": "completed"
    },
    "tags": []
   },
   "source": [
    "#### Part B\n",
    "\n",
    "You decide to dedicate a section of your report to the fact that chocolate candies tend to be more popular than candies without chocolate.  Which plot is more appropriate to tell this story: the plot from **Step 6**, or the plot from **Step 7**?"
   ]
  },
  {
   "cell_type": "code",
   "execution_count": 24,
   "id": "4c1123f4",
   "metadata": {
    "execution": {
     "iopub.execute_input": "2022-06-28T15:46:53.134448Z",
     "iopub.status.busy": "2022-06-28T15:46:53.133898Z",
     "iopub.status.idle": "2022-06-28T15:46:53.138568Z",
     "shell.execute_reply": "2022-06-28T15:46:53.137720Z"
    },
    "papermill": {
     "duration": 0.024269,
     "end_time": "2022-06-28T15:46:53.140730",
     "exception": false,
     "start_time": "2022-06-28T15:46:53.116461",
     "status": "completed"
    },
    "tags": []
   },
   "outputs": [],
   "source": [
    "#step_7.b.hint()"
   ]
  },
  {
   "cell_type": "code",
   "execution_count": 25,
   "id": "99f2f343",
   "metadata": {
    "execution": {
     "iopub.execute_input": "2022-06-28T15:46:53.175486Z",
     "iopub.status.busy": "2022-06-28T15:46:53.174311Z",
     "iopub.status.idle": "2022-06-28T15:46:53.184943Z",
     "shell.execute_reply": "2022-06-28T15:46:53.183716Z"
    },
    "papermill": {
     "duration": 0.030561,
     "end_time": "2022-06-28T15:46:53.187590",
     "exception": false,
     "start_time": "2022-06-28T15:46:53.157029",
     "status": "completed"
    },
    "tags": []
   },
   "outputs": [
    {
     "data": {
      "application/javascript": [
       "parent.postMessage({\"jupyterEvent\": \"custom.exercise_interaction\", \"data\": {\"interactionType\": 3, \"questionType\": 4, \"questionId\": \"7.2_ThinkSwarm\", \"learnToolsVersion\": \"0.3.4\", \"valueTowardsCompletion\": 0.0, \"failureMessage\": \"\", \"exceptionClass\": \"\", \"trace\": \"\", \"outcomeType\": 4}}, \"*\")"
      ],
      "text/plain": [
       "<IPython.core.display.Javascript object>"
      ]
     },
     "metadata": {},
     "output_type": "display_data"
    },
    {
     "data": {
      "text/markdown": [
       "<span style=\"color:#33cc99\">Solution:</span> In this case, the categorical scatter plot from **Step 7** is the more appropriate plot. While both plots tell the desired story, the plot from **Step 6** conveys far more information that could distract from the main point."
      ],
      "text/plain": [
       "Solution: In this case, the categorical scatter plot from **Step 7** is the more appropriate plot. While both plots tell the desired story, the plot from **Step 6** conveys far more information that could distract from the main point."
      ]
     },
     "metadata": {},
     "output_type": "display_data"
    }
   ],
   "source": [
    "# Check your answer (Run this code cell to receive credit!)\n",
    "step_7.b.solution()"
   ]
  },
  {
   "cell_type": "markdown",
   "id": "be1ebe71",
   "metadata": {
    "papermill": {
     "duration": 0.01533,
     "end_time": "2022-06-28T15:46:53.219012",
     "exception": false,
     "start_time": "2022-06-28T15:46:53.203682",
     "status": "completed"
    },
    "tags": []
   },
   "source": [
    "## Keep going\n",
    "\n",
    "Explore **[histograms and density plots](https://www.kaggle.com/alexisbcook/distributions)**."
   ]
  },
  {
   "cell_type": "markdown",
   "id": "07e846d9",
   "metadata": {
    "papermill": {
     "duration": 0.01551,
     "end_time": "2022-06-28T15:46:53.250212",
     "exception": false,
     "start_time": "2022-06-28T15:46:53.234702",
     "status": "completed"
    },
    "tags": []
   },
   "source": [
    "---\n",
    "\n",
    "\n",
    "\n",
    "\n",
    "*Have questions or comments? Visit the [course discussion forum](https://www.kaggle.com/learn/data-visualization/discussion) to chat with other learners.*"
   ]
  }
 ],
 "metadata": {
  "kernelspec": {
   "display_name": "Python 3",
   "language": "python",
   "name": "python3"
  },
  "language_info": {
   "codemirror_mode": {
    "name": "ipython",
    "version": 3
   },
   "file_extension": ".py",
   "mimetype": "text/x-python",
   "name": "python",
   "nbconvert_exporter": "python",
   "pygments_lexer": "ipython3",
   "version": "3.7.12"
  },
  "papermill": {
   "default_parameters": {},
   "duration": 16.167675,
   "end_time": "2022-06-28T15:46:53.987978",
   "environment_variables": {},
   "exception": null,
   "input_path": "__notebook__.ipynb",
   "output_path": "__notebook__.ipynb",
   "parameters": {},
   "start_time": "2022-06-28T15:46:37.820303",
   "version": "2.3.4"
  }
 },
 "nbformat": 4,
 "nbformat_minor": 5
}
