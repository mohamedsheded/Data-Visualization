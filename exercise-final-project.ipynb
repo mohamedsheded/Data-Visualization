{
 "cells": [
  {
   "cell_type": "markdown",
   "id": "6541ffc7",
   "metadata": {
    "papermill": {
     "duration": 0.00551,
     "end_time": "2022-06-28T18:17:08.073122",
     "exception": false,
     "start_time": "2022-06-28T18:17:08.067612",
     "status": "completed"
    },
    "tags": []
   },
   "source": [
    "**This notebook is an exercise in the [Data Visualization](https://www.kaggle.com/learn/data-visualization) course.  You can reference the tutorial at [this link](https://www.kaggle.com/alexisbcook/final-project).**\n",
    "\n",
    "---\n"
   ]
  },
  {
   "cell_type": "markdown",
   "id": "b2f0135e",
   "metadata": {
    "papermill": {
     "duration": 0.003542,
     "end_time": "2022-06-28T18:17:08.080595",
     "exception": false,
     "start_time": "2022-06-28T18:17:08.077053",
     "status": "completed"
    },
    "tags": []
   },
   "source": [
    "Now it's time for you to demonstrate your new skills with a project of your own!\n",
    "\n",
    "In this exercise, you will work with a dataset of your choosing.  Once you've selected a dataset, you'll design and create your own plot to tell interesting stories behind the data!\n",
    "\n",
    "## Setup\n",
    "\n",
    "Run the next cell to import and configure the Python libraries that you need to complete the exercise."
   ]
  },
  {
   "cell_type": "code",
   "execution_count": 1,
   "id": "2bfe9586",
   "metadata": {
    "execution": {
     "iopub.execute_input": "2022-06-28T18:17:08.091758Z",
     "iopub.status.busy": "2022-06-28T18:17:08.090876Z",
     "iopub.status.idle": "2022-06-28T18:17:09.314897Z",
     "shell.execute_reply": "2022-06-28T18:17:09.312171Z"
    },
    "papermill": {
     "duration": 1.233281,
     "end_time": "2022-06-28T18:17:09.317763",
     "exception": false,
     "start_time": "2022-06-28T18:17:08.084482",
     "status": "completed"
    },
    "tags": []
   },
   "outputs": [
    {
     "name": "stdout",
     "output_type": "stream",
     "text": [
      "Setup Complete\n"
     ]
    }
   ],
   "source": [
    "import pandas as pd\n",
    "pd.plotting.register_matplotlib_converters()\n",
    "import matplotlib.pyplot as plt\n",
    "%matplotlib inline\n",
    "import seaborn as sns\n",
    "print(\"Setup Complete\")"
   ]
  },
  {
   "cell_type": "markdown",
   "id": "cf2ddb5c",
   "metadata": {
    "papermill": {
     "duration": 0.003324,
     "end_time": "2022-06-28T18:17:09.324908",
     "exception": false,
     "start_time": "2022-06-28T18:17:09.321584",
     "status": "completed"
    },
    "tags": []
   },
   "source": [
    "The questions below will give you feedback on your work. Run the following cell to set up the feedback system."
   ]
  },
  {
   "cell_type": "code",
   "execution_count": 2,
   "id": "ad27d426",
   "metadata": {
    "execution": {
     "iopub.execute_input": "2022-06-28T18:17:09.333886Z",
     "iopub.status.busy": "2022-06-28T18:17:09.333092Z",
     "iopub.status.idle": "2022-06-28T18:17:09.382317Z",
     "shell.execute_reply": "2022-06-28T18:17:09.381010Z"
    },
    "papermill": {
     "duration": 0.056076,
     "end_time": "2022-06-28T18:17:09.384530",
     "exception": false,
     "start_time": "2022-06-28T18:17:09.328454",
     "status": "completed"
    },
    "tags": []
   },
   "outputs": [
    {
     "name": "stdout",
     "output_type": "stream",
     "text": [
      "Setup Complete\n"
     ]
    }
   ],
   "source": [
    "# Set up code checking\n",
    "from learntools.core import binder\n",
    "binder.bind(globals())\n",
    "from learntools.data_viz_to_coder.ex7 import *\n",
    "print(\"Setup Complete\")"
   ]
  },
  {
   "cell_type": "markdown",
   "id": "6ab128de",
   "metadata": {
    "papermill": {
     "duration": 0.003322,
     "end_time": "2022-06-28T18:17:09.391745",
     "exception": false,
     "start_time": "2022-06-28T18:17:09.388423",
     "status": "completed"
    },
    "tags": []
   },
   "source": [
    "## Step 1: Attach a dataset to the notebook\n",
    "\n",
    "Begin by selecting a CSV dataset from [Kaggle Datasets](https://www.kaggle.com/datasets).  If you're unsure how to do this, please revisit the instructions in the previous tutorial.\n",
    "\n",
    "Once you have selected a dataset, click on the **[+ Add data]** option in the top right corner.  This will generate a pop-up window that you can use to search for your chosen dataset.  \n",
    "\n",
    "![ex6_search_dataset](https://i.imgur.com/cIIWPUS.png)\n",
    "\n",
    "Once you have found the dataset, click on the **[Add]** button to attach it to the notebook.  You can check that it was successful by looking at the **Data** dropdown menu to the right of the notebook -- look for an **input** folder containing a subfolder that matches the name of the dataset.\n",
    "\n",
    "<center>\n",
    "<img src=\"https://i.imgur.com/nMYc1Nu.png\" width=30%><br/>\n",
    "</center>\n",
    "\n",
    "You can click on the carat to the left of the name of the dataset to double-check that it contains a CSV file.  For instance, the image below shows that the example dataset contains two CSV files: (1) **dc-wikia-data.csv**, and (2) **marvel-wikia-data.csv**.\n",
    "\n",
    "<center>\n",
    "<img src=\"https://i.imgur.com/B4sJkVA.png\" width=30%><br/>\n",
    "</center>\n",
    "\n",
    "Once you've uploaded a dataset with a CSV file, run the code cell below **without changes** to receive credit for your work!"
   ]
  },
  {
   "cell_type": "code",
   "execution_count": 3,
   "id": "76633332",
   "metadata": {
    "execution": {
     "iopub.execute_input": "2022-06-28T18:17:09.400097Z",
     "iopub.status.busy": "2022-06-28T18:17:09.399744Z",
     "iopub.status.idle": "2022-06-28T18:17:09.415615Z",
     "shell.execute_reply": "2022-06-28T18:17:09.414749Z"
    },
    "papermill": {
     "duration": 0.022377,
     "end_time": "2022-06-28T18:17:09.417496",
     "exception": false,
     "start_time": "2022-06-28T18:17:09.395119",
     "status": "completed"
    },
    "tags": []
   },
   "outputs": [
    {
     "data": {
      "application/javascript": [
       "parent.postMessage({\"jupyterEvent\": \"custom.exercise_interaction\", \"data\": {\"outcomeType\": 1, \"valueTowardsCompletion\": 0.25, \"interactionType\": 1, \"questionType\": 2, \"questionId\": \"1_AttachData\", \"learnToolsVersion\": \"0.3.4\", \"failureMessage\": \"\", \"exceptionClass\": \"\", \"trace\": \"\"}}, \"*\")"
      ],
      "text/plain": [
       "<IPython.core.display.Javascript object>"
      ]
     },
     "metadata": {},
     "output_type": "display_data"
    },
    {
     "data": {
      "text/markdown": [
       "<span style=\"color:#33cc33\">Correct:</span> \n",
       "\n"
      ],
      "text/plain": [
       "Correct: \n"
      ]
     },
     "metadata": {},
     "output_type": "display_data"
    }
   ],
   "source": [
    "# Check for a dataset with a CSV file\n",
    "step_1.check()"
   ]
  },
  {
   "cell_type": "markdown",
   "id": "3863481b",
   "metadata": {
    "papermill": {
     "duration": 0.003548,
     "end_time": "2022-06-28T18:17:09.424927",
     "exception": false,
     "start_time": "2022-06-28T18:17:09.421379",
     "status": "completed"
    },
    "tags": []
   },
   "source": [
    "## Step 2: Specify the filepath\n",
    "\n",
    "Now that the dataset is attached to the notebook, you can find its filepath.  To do this, begin by clicking on the CSV file you'd like to use.  This will open the CSV file in a tab below the notebook.  You can find the filepath towards the top of this new tab.  \n",
    "\n",
    "![ex6_filepath](https://i.imgur.com/fgXQV47.png)\n",
    "\n",
    "After you find the filepath corresponding to your dataset, fill it in as the value for `my_filepath` in the code cell below, and run the code cell to check that you've provided a valid filepath.  For instance, in the case of this example dataset, we would set\n",
    "```\n",
    "my_filepath = \"../input/fivethirtyeight-comic-characters-dataset/dc-wikia-data.csv\"\n",
    "```  \n",
    "Note that **you must enclose the filepath in quotation marks**; otherwise, the code will return an error.\n",
    "\n",
    "Once you've entered the filepath, you can close the tab below the notebook by clicking on the **[X]** at the top of the tab."
   ]
  },
  {
   "cell_type": "code",
   "execution_count": 4,
   "id": "ab0b7d9f",
   "metadata": {
    "execution": {
     "iopub.execute_input": "2022-06-28T18:17:09.434859Z",
     "iopub.status.busy": "2022-06-28T18:17:09.434032Z",
     "iopub.status.idle": "2022-06-28T18:17:09.452765Z",
     "shell.execute_reply": "2022-06-28T18:17:09.451554Z"
    },
    "papermill": {
     "duration": 0.026444,
     "end_time": "2022-06-28T18:17:09.455112",
     "exception": false,
     "start_time": "2022-06-28T18:17:09.428668",
     "status": "completed"
    },
    "tags": []
   },
   "outputs": [
    {
     "data": {
      "application/javascript": [
       "parent.postMessage({\"jupyterEvent\": \"custom.exercise_interaction\", \"data\": {\"outcomeType\": 1, \"valueTowardsCompletion\": 0.25, \"interactionType\": 1, \"questionType\": 2, \"questionId\": \"2_Filepath\", \"learnToolsVersion\": \"0.3.4\", \"failureMessage\": \"\", \"exceptionClass\": \"\", \"trace\": \"\"}}, \"*\")"
      ],
      "text/plain": [
       "<IPython.core.display.Javascript object>"
      ]
     },
     "metadata": {},
     "output_type": "display_data"
    },
    {
     "data": {
      "text/markdown": [
       "<span style=\"color:#33cc33\">Correct:</span> \n",
       "\n"
      ],
      "text/plain": [
       "Correct: \n"
      ]
     },
     "metadata": {},
     "output_type": "display_data"
    }
   ],
   "source": [
    "# Fill in the line below: Specify the path of the CSV file to read\n",
    "my_filepath =\"../input/ucl-202122-uefa-champions-league/attacking.csv\"\n",
    "\n",
    "#attacking data\n",
    "my_data=pd.read_csv(my_filepath)\n",
    "\n",
    "# Check for a valid filepath to a CSV file in a dataset\n",
    "step_2.check()"
   ]
  },
  {
   "cell_type": "markdown",
   "id": "8df0ade1",
   "metadata": {
    "papermill": {
     "duration": 0.003982,
     "end_time": "2022-06-28T18:17:09.463228",
     "exception": false,
     "start_time": "2022-06-28T18:17:09.459246",
     "status": "completed"
    },
    "tags": []
   },
   "source": [
    "## Step 3: Load the data\n",
    "\n",
    "Use the next code cell to load your data file into `my_data`.  Use the filepath that you specified in the previous step."
   ]
  },
  {
   "cell_type": "code",
   "execution_count": 5,
   "id": "c7d50e1d",
   "metadata": {
    "execution": {
     "iopub.execute_input": "2022-06-28T18:17:09.473786Z",
     "iopub.status.busy": "2022-06-28T18:17:09.472504Z",
     "iopub.status.idle": "2022-06-28T18:17:09.483943Z",
     "shell.execute_reply": "2022-06-28T18:17:09.482803Z"
    },
    "papermill": {
     "duration": 0.019149,
     "end_time": "2022-06-28T18:17:09.486314",
     "exception": false,
     "start_time": "2022-06-28T18:17:09.467165",
     "status": "completed"
    },
    "tags": []
   },
   "outputs": [
    {
     "data": {
      "application/javascript": [
       "parent.postMessage({\"jupyterEvent\": \"custom.exercise_interaction\", \"data\": {\"outcomeType\": 1, \"valueTowardsCompletion\": 0.25, \"interactionType\": 1, \"questionType\": 2, \"questionId\": \"3_LoadData\", \"learnToolsVersion\": \"0.3.4\", \"failureMessage\": \"\", \"exceptionClass\": \"\", \"trace\": \"\"}}, \"*\")"
      ],
      "text/plain": [
       "<IPython.core.display.Javascript object>"
      ]
     },
     "metadata": {},
     "output_type": "display_data"
    },
    {
     "data": {
      "text/markdown": [
       "<span style=\"color:#33cc33\">Correct:</span> \n",
       "\n"
      ],
      "text/plain": [
       "Correct: \n"
      ]
     },
     "metadata": {},
     "output_type": "display_data"
    }
   ],
   "source": [
    "# Fill in the line below: Read the file into a variable my_data\n",
    "my_data = my_data=pd.read_csv(my_filepath)\n",
    "\n",
    "\n",
    "# Check that a dataset has been uploaded into my_data\n",
    "step_3.check()"
   ]
  },
  {
   "cell_type": "markdown",
   "id": "6d1b01bf",
   "metadata": {
    "papermill": {
     "duration": 0.003937,
     "end_time": "2022-06-28T18:17:09.494497",
     "exception": false,
     "start_time": "2022-06-28T18:17:09.490560",
     "status": "completed"
    },
    "tags": []
   },
   "source": [
    "**_After the code cell above is marked correct_**, run the code cell below without changes to view the first five rows of the data."
   ]
  },
  {
   "cell_type": "code",
   "execution_count": 6,
   "id": "a98a941d",
   "metadata": {
    "execution": {
     "iopub.execute_input": "2022-06-28T18:17:09.505732Z",
     "iopub.status.busy": "2022-06-28T18:17:09.504721Z",
     "iopub.status.idle": "2022-06-28T18:17:09.527790Z",
     "shell.execute_reply": "2022-06-28T18:17:09.526542Z"
    },
    "papermill": {
     "duration": 0.031321,
     "end_time": "2022-06-28T18:17:09.530006",
     "exception": false,
     "start_time": "2022-06-28T18:17:09.498685",
     "status": "completed"
    },
    "tags": []
   },
   "outputs": [
    {
     "data": {
      "text/html": [
       "<div>\n",
       "<style scoped>\n",
       "    .dataframe tbody tr th:only-of-type {\n",
       "        vertical-align: middle;\n",
       "    }\n",
       "\n",
       "    .dataframe tbody tr th {\n",
       "        vertical-align: top;\n",
       "    }\n",
       "\n",
       "    .dataframe thead th {\n",
       "        text-align: right;\n",
       "    }\n",
       "</style>\n",
       "<table border=\"1\" class=\"dataframe\">\n",
       "  <thead>\n",
       "    <tr style=\"text-align: right;\">\n",
       "      <th></th>\n",
       "      <th>serial</th>\n",
       "      <th>player_name</th>\n",
       "      <th>club</th>\n",
       "      <th>position</th>\n",
       "      <th>assists</th>\n",
       "      <th>corner_taken</th>\n",
       "      <th>offsides</th>\n",
       "      <th>dribbles</th>\n",
       "      <th>match_played</th>\n",
       "    </tr>\n",
       "  </thead>\n",
       "  <tbody>\n",
       "    <tr>\n",
       "      <th>0</th>\n",
       "      <td>1</td>\n",
       "      <td>Bruno Fernandes</td>\n",
       "      <td>Man. United</td>\n",
       "      <td>Midfielder</td>\n",
       "      <td>7</td>\n",
       "      <td>10</td>\n",
       "      <td>2</td>\n",
       "      <td>7</td>\n",
       "      <td>7</td>\n",
       "    </tr>\n",
       "    <tr>\n",
       "      <th>1</th>\n",
       "      <td>2</td>\n",
       "      <td>Vinícius Júnior</td>\n",
       "      <td>Real Madrid</td>\n",
       "      <td>Forward</td>\n",
       "      <td>6</td>\n",
       "      <td>3</td>\n",
       "      <td>4</td>\n",
       "      <td>83</td>\n",
       "      <td>13</td>\n",
       "    </tr>\n",
       "    <tr>\n",
       "      <th>2</th>\n",
       "      <td>2</td>\n",
       "      <td>Sané</td>\n",
       "      <td>Bayern</td>\n",
       "      <td>Midfielder</td>\n",
       "      <td>6</td>\n",
       "      <td>3</td>\n",
       "      <td>3</td>\n",
       "      <td>32</td>\n",
       "      <td>10</td>\n",
       "    </tr>\n",
       "    <tr>\n",
       "      <th>3</th>\n",
       "      <td>4</td>\n",
       "      <td>Antony</td>\n",
       "      <td>Ajax</td>\n",
       "      <td>Forward</td>\n",
       "      <td>5</td>\n",
       "      <td>3</td>\n",
       "      <td>4</td>\n",
       "      <td>28</td>\n",
       "      <td>7</td>\n",
       "    </tr>\n",
       "    <tr>\n",
       "      <th>4</th>\n",
       "      <td>5</td>\n",
       "      <td>Alexander-Arnold</td>\n",
       "      <td>Liverpool</td>\n",
       "      <td>Defender</td>\n",
       "      <td>4</td>\n",
       "      <td>36</td>\n",
       "      <td>0</td>\n",
       "      <td>9</td>\n",
       "      <td>9</td>\n",
       "    </tr>\n",
       "  </tbody>\n",
       "</table>\n",
       "</div>"
      ],
      "text/plain": [
       "   serial       player_name         club    position  assists  corner_taken  \\\n",
       "0       1   Bruno Fernandes  Man. United  Midfielder        7            10   \n",
       "1       2   Vinícius Júnior  Real Madrid     Forward        6             3   \n",
       "2       2              Sané       Bayern  Midfielder        6             3   \n",
       "3       4            Antony         Ajax     Forward        5             3   \n",
       "4       5  Alexander-Arnold    Liverpool    Defender        4            36   \n",
       "\n",
       "   offsides  dribbles  match_played  \n",
       "0         2         7             7  \n",
       "1         4        83            13  \n",
       "2         3        32            10  \n",
       "3         4        28             7  \n",
       "4         0         9             9  "
      ]
     },
     "execution_count": 6,
     "metadata": {},
     "output_type": "execute_result"
    }
   ],
   "source": [
    "# Print the first five rows of the data\n",
    "my_data.head()"
   ]
  },
  {
   "cell_type": "raw",
   "id": "692468c7",
   "metadata": {
    "papermill": {
     "duration": 0.004666,
     "end_time": "2022-06-28T18:17:09.539412",
     "exception": false,
     "start_time": "2022-06-28T18:17:09.534746",
     "status": "completed"
    },
    "tags": []
   },
   "source": [
    "## Step 4: Visualize the data\n",
    "\n",
    "Use the next code cell to create a figure that tells a story behind your dataset.  You can use any chart type (_line chart, bar chart, heatmap, etc_) of your choosing!"
   ]
  },
  {
   "cell_type": "code",
   "execution_count": 7,
   "id": "1d0ab760",
   "metadata": {
    "execution": {
     "iopub.execute_input": "2022-06-28T18:17:09.550449Z",
     "iopub.status.busy": "2022-06-28T18:17:09.550008Z",
     "iopub.status.idle": "2022-06-28T18:17:10.472091Z",
     "shell.execute_reply": "2022-06-28T18:17:10.470842Z"
    },
    "papermill": {
     "duration": 0.930632,
     "end_time": "2022-06-28T18:17:10.474538",
     "exception": false,
     "start_time": "2022-06-28T18:17:09.543906",
     "status": "completed"
    },
    "tags": []
   },
   "outputs": [
    {
     "data": {
      "application/javascript": [
       "parent.postMessage({\"jupyterEvent\": \"custom.exercise_interaction\", \"data\": {\"outcomeType\": 1, \"valueTowardsCompletion\": 0.25, \"interactionType\": 1, \"questionType\": 2, \"questionId\": \"4_CreatePlot\", \"learnToolsVersion\": \"0.3.4\", \"failureMessage\": \"\", \"exceptionClass\": \"\", \"trace\": \"\"}}, \"*\")"
      ],
      "text/plain": [
       "<IPython.core.display.Javascript object>"
      ]
     },
     "metadata": {},
     "output_type": "display_data"
    },
    {
     "data": {
      "text/markdown": [
       "<span style=\"color:#33cc33\">Correct:</span> \n",
       "\n"
      ],
      "text/plain": [
       "Correct: \n"
      ]
     },
     "metadata": {},
     "output_type": "display_data"
    },
    {
     "data": {
      "image/png": "[encoded data removed]",
      "text/plain": [
       "<Figure size 720x720 with 1 Axes>"
      ]
     },
     "metadata": {
      "needs_background": "light"
     },
     "output_type": "display_data"
    }
   ],
   "source": [
    "# Create a plot\n",
    "plt.figure(figsize=(10,10))\n",
    "plt.title(\"assists vs match played\")\n",
    "sns.scatterplot(x=my_data['assists'],y=my_data['match_played'],hue=my_data['club'])\n",
    "\n",
    "\n",
    "# Check that a figure appears below\n",
    "step_4.check()"
   ]
  },
  {
   "cell_type": "markdown",
   "id": "4b0afbfb",
   "metadata": {
    "papermill": {
     "duration": 0.005274,
     "end_time": "2022-06-28T18:17:10.485811",
     "exception": false,
     "start_time": "2022-06-28T18:17:10.480537",
     "status": "completed"
    },
    "tags": []
   },
   "source": [
    "## Keep going\n",
    "\n",
    "Learn how to use your skills after completing the micro-course to create data visualizations in a **[final tutorial](https://www.kaggle.com/alexisbcook/creating-your-own-notebooks)**."
   ]
  },
  {
   "cell_type": "markdown",
   "id": "2552b6d7",
   "metadata": {
    "papermill": {
     "duration": 0.005618,
     "end_time": "2022-06-28T18:17:10.497075",
     "exception": false,
     "start_time": "2022-06-28T18:17:10.491457",
     "status": "completed"
    },
    "tags": []
   },
   "source": [
    "---\n",
    "\n",
    "\n",
    "\n",
    "\n",
    "*Have questions or comments? Visit the [course discussion forum](https://www.kaggle.com/learn/data-visualization/discussion) to chat with other learners.*"
   ]
  }
 ],
 "metadata": {
  "kernelspec": {
   "display_name": "Python 3",
   "language": "python",
   "name": "python3"
  },
  "language_info": {
   "codemirror_mode": {
    "name": "ipython",
    "version": 3
   },
   "file_extension": ".py",
   "mimetype": "text/x-python",
   "name": "python",
   "nbconvert_exporter": "python",
   "pygments_lexer": "ipython3",
   "version": "3.7.12"
  },
  "papermill": {
   "default_parameters": {},
   "duration": 12.474204,
   "end_time": "2022-06-28T18:17:11.224490",
   "environment_variables": {},
   "exception": null,
   "input_path": "__notebook__.ipynb",
   "output_path": "__notebook__.ipynb",
   "parameters": {},
   "start_time": "2022-06-28T18:16:58.750286",
   "version": "2.3.4"
  }
 },
 "nbformat": 4,
 "nbformat_minor": 5
}
